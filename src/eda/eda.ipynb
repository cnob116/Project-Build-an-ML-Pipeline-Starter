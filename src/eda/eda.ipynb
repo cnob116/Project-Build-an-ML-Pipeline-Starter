{
 "cells": [
  {
   "cell_type": "code",
   "id": "1f72a955",
   "metadata": {
    "scrolled": true,
    "tags": [],
    "ExecuteTime": {
     "end_time": "2025-04-19T23:51:00.837142Z",
     "start_time": "2025-04-19T23:50:05.002711Z"
    }
   },
   "source": [
    "!pip install wandb==0.16.0\n",
    "!pip install ydata-profiling==4.12.1\n",
    "!pip install pandas==2.1.3"
   ],
   "outputs": [
    {
     "name": "stdout",
     "output_type": "stream",
     "text": [
      "Requirement already satisfied: wandb==0.16.0 in /Users/caitlinhowe/miniconda3/envs/nyc_airbnb_dev/lib/python3.10/site-packages (0.16.0)\r\n",
      "Requirement already satisfied: Click!=8.0.0,>=7.1 in /Users/caitlinhowe/miniconda3/envs/nyc_airbnb_dev/lib/python3.10/site-packages (from wandb==0.16.0) (8.1.8)\r\n",
      "Requirement already satisfied: GitPython!=3.1.29,>=1.0.0 in /Users/caitlinhowe/miniconda3/envs/nyc_airbnb_dev/lib/python3.10/site-packages (from wandb==0.16.0) (3.1.44)\r\n",
      "Requirement already satisfied: requests<3,>=2.0.0 in /Users/caitlinhowe/miniconda3/envs/nyc_airbnb_dev/lib/python3.10/site-packages (from wandb==0.16.0) (2.32.3)\r\n",
      "Requirement already satisfied: psutil>=5.0.0 in /Users/caitlinhowe/miniconda3/envs/nyc_airbnb_dev/lib/python3.10/site-packages (from wandb==0.16.0) (7.0.0)\r\n",
      "Requirement already satisfied: sentry-sdk>=1.0.0 in /Users/caitlinhowe/miniconda3/envs/nyc_airbnb_dev/lib/python3.10/site-packages (from wandb==0.16.0) (2.26.1)\r\n",
      "Requirement already satisfied: docker-pycreds>=0.4.0 in /Users/caitlinhowe/miniconda3/envs/nyc_airbnb_dev/lib/python3.10/site-packages (from wandb==0.16.0) (0.4.0)\r\n",
      "Requirement already satisfied: PyYAML in /Users/caitlinhowe/miniconda3/envs/nyc_airbnb_dev/lib/python3.10/site-packages (from wandb==0.16.0) (6.0.2)\r\n",
      "Requirement already satisfied: setproctitle in /Users/caitlinhowe/miniconda3/envs/nyc_airbnb_dev/lib/python3.10/site-packages (from wandb==0.16.0) (1.3.5)\r\n",
      "Requirement already satisfied: setuptools in /Users/caitlinhowe/miniconda3/envs/nyc_airbnb_dev/lib/python3.10/site-packages (from wandb==0.16.0) (78.1.0)\r\n",
      "Requirement already satisfied: appdirs>=1.4.3 in /Users/caitlinhowe/miniconda3/envs/nyc_airbnb_dev/lib/python3.10/site-packages (from wandb==0.16.0) (1.4.4)\r\n",
      "Requirement already satisfied: protobuf!=4.21.0,<5,>=3.19.0 in /Users/caitlinhowe/miniconda3/envs/nyc_airbnb_dev/lib/python3.10/site-packages (from wandb==0.16.0) (4.25.6)\r\n",
      "Requirement already satisfied: six>=1.4.0 in /Users/caitlinhowe/miniconda3/envs/nyc_airbnb_dev/lib/python3.10/site-packages (from docker-pycreds>=0.4.0->wandb==0.16.0) (1.17.0)\r\n",
      "Requirement already satisfied: gitdb<5,>=4.0.1 in /Users/caitlinhowe/miniconda3/envs/nyc_airbnb_dev/lib/python3.10/site-packages (from GitPython!=3.1.29,>=1.0.0->wandb==0.16.0) (4.0.12)\r\n",
      "Requirement already satisfied: charset_normalizer<4,>=2 in /Users/caitlinhowe/miniconda3/envs/nyc_airbnb_dev/lib/python3.10/site-packages (from requests<3,>=2.0.0->wandb==0.16.0) (3.4.1)\r\n",
      "Requirement already satisfied: idna<4,>=2.5 in /Users/caitlinhowe/miniconda3/envs/nyc_airbnb_dev/lib/python3.10/site-packages (from requests<3,>=2.0.0->wandb==0.16.0) (3.10)\r\n",
      "Requirement already satisfied: urllib3<3,>=1.21.1 in /Users/caitlinhowe/miniconda3/envs/nyc_airbnb_dev/lib/python3.10/site-packages (from requests<3,>=2.0.0->wandb==0.16.0) (2.4.0)\r\n",
      "Requirement already satisfied: certifi>=2017.4.17 in /Users/caitlinhowe/miniconda3/envs/nyc_airbnb_dev/lib/python3.10/site-packages (from requests<3,>=2.0.0->wandb==0.16.0) (2025.1.31)\r\n",
      "Requirement already satisfied: smmap<6,>=3.0.1 in /Users/caitlinhowe/miniconda3/envs/nyc_airbnb_dev/lib/python3.10/site-packages (from gitdb<5,>=4.0.1->GitPython!=3.1.29,>=1.0.0->wandb==0.16.0) (5.0.2)\r\n",
      "Collecting ydata-profiling==4.12.1\r\n",
      "  Downloading ydata_profiling-4.12.1-py2.py3-none-any.whl.metadata (20 kB)\r\n",
      "Collecting scipy<1.14,>=1.4.1 (from ydata-profiling==4.12.1)\r\n",
      "  Downloading scipy-1.13.1-cp310-cp310-macosx_10_9_x86_64.whl.metadata (60 kB)\r\n",
      "\u001B[2K     \u001B[90m━━━━━━━━━━━━━━━━━━━━━━━━━━━━━━━━━━━━━━━\u001B[0m \u001B[32m60.6/60.6 kB\u001B[0m \u001B[31m862.7 kB/s\u001B[0m eta \u001B[36m0:00:00\u001B[0m \u001B[36m0:00:01\u001B[0m\r\n",
      "\u001B[?25hRequirement already satisfied: pandas!=1.4.0,<3,>1.1 in /Users/caitlinhowe/miniconda3/envs/nyc_airbnb_dev/lib/python3.10/site-packages (from ydata-profiling==4.12.1) (2.1.3)\r\n",
      "Requirement already satisfied: matplotlib<3.10,>=3.5 in /Users/caitlinhowe/miniconda3/envs/nyc_airbnb_dev/lib/python3.10/site-packages (from ydata-profiling==4.12.1) (3.8.2)\r\n",
      "Collecting pydantic>=2 (from ydata-profiling==4.12.1)\r\n",
      "  Using cached pydantic-2.11.3-py3-none-any.whl.metadata (65 kB)\r\n",
      "Requirement already satisfied: PyYAML<6.1,>=5.0.0 in /Users/caitlinhowe/miniconda3/envs/nyc_airbnb_dev/lib/python3.10/site-packages (from ydata-profiling==4.12.1) (6.0.2)\r\n",
      "Requirement already satisfied: jinja2<3.2,>=2.11.1 in /Users/caitlinhowe/miniconda3/envs/nyc_airbnb_dev/lib/python3.10/site-packages (from ydata-profiling==4.12.1) (3.1.6)\r\n",
      "Collecting visions<0.7.7,>=0.7.5 (from visions[type_image_path]<0.7.7,>=0.7.5->ydata-profiling==4.12.1)\r\n",
      "  Downloading visions-0.7.6-py3-none-any.whl.metadata (11 kB)\r\n",
      "Requirement already satisfied: numpy<2.2,>=1.16.0 in /Users/caitlinhowe/miniconda3/envs/nyc_airbnb_dev/lib/python3.10/site-packages (from ydata-profiling==4.12.1) (1.26.4)\r\n",
      "Collecting htmlmin==0.1.12 (from ydata-profiling==4.12.1)\r\n",
      "  Downloading htmlmin-0.1.12.tar.gz (19 kB)\r\n",
      "  Preparing metadata (setup.py) ... \u001B[?25ldone\r\n",
      "\u001B[?25hCollecting phik<0.13,>=0.11.1 (from ydata-profiling==4.12.1)\r\n",
      "  Downloading phik-0.12.4-cp310-cp310-macosx_10_13_x86_64.whl.metadata (5.6 kB)\r\n",
      "Requirement already satisfied: requests<3,>=2.24.0 in /Users/caitlinhowe/miniconda3/envs/nyc_airbnb_dev/lib/python3.10/site-packages (from ydata-profiling==4.12.1) (2.32.3)\r\n",
      "Collecting tqdm<5,>=4.48.2 (from ydata-profiling==4.12.1)\r\n",
      "  Downloading tqdm-4.67.1-py3-none-any.whl.metadata (57 kB)\r\n",
      "\u001B[2K     \u001B[90m━━━━━━━━━━━━━━━━━━━━━━━━━━━━━━━━━━━━━━━━\u001B[0m \u001B[32m57.7/57.7 kB\u001B[0m \u001B[31m1.6 MB/s\u001B[0m eta \u001B[36m0:00:00\u001B[0m\r\n",
      "\u001B[?25hCollecting seaborn<0.14,>=0.10.1 (from ydata-profiling==4.12.1)\r\n",
      "  Downloading seaborn-0.13.2-py3-none-any.whl.metadata (5.4 kB)\r\n",
      "Collecting multimethod<2,>=1.4 (from ydata-profiling==4.12.1)\r\n",
      "  Downloading multimethod-1.12-py3-none-any.whl.metadata (9.6 kB)\r\n",
      "Collecting statsmodels<1,>=0.13.2 (from ydata-profiling==4.12.1)\r\n",
      "  Downloading statsmodels-0.14.4-cp310-cp310-macosx_10_9_x86_64.whl.metadata (9.2 kB)\r\n",
      "Collecting typeguard<5,>=3 (from ydata-profiling==4.12.1)\r\n",
      "  Downloading typeguard-4.4.2-py3-none-any.whl.metadata (3.8 kB)\r\n",
      "Collecting imagehash==4.3.1 (from ydata-profiling==4.12.1)\r\n",
      "  Downloading ImageHash-4.3.1-py2.py3-none-any.whl.metadata (8.0 kB)\r\n",
      "Collecting wordcloud>=1.9.3 (from ydata-profiling==4.12.1)\r\n",
      "  Downloading wordcloud-1.9.4-cp310-cp310-macosx_10_9_x86_64.whl.metadata (3.4 kB)\r\n",
      "Collecting dacite>=1.8 (from ydata-profiling==4.12.1)\r\n",
      "  Downloading dacite-1.9.2-py3-none-any.whl.metadata (17 kB)\r\n",
      "Collecting numba<1,>=0.56.0 (from ydata-profiling==4.12.1)\r\n",
      "  Downloading numba-0.61.2-cp310-cp310-macosx_10_14_x86_64.whl.metadata (2.8 kB)\r\n",
      "Collecting PyWavelets (from imagehash==4.3.1->ydata-profiling==4.12.1)\r\n",
      "  Downloading pywavelets-1.8.0-cp310-cp310-macosx_10_9_x86_64.whl.metadata (9.0 kB)\r\n",
      "Requirement already satisfied: pillow in /Users/caitlinhowe/miniconda3/envs/nyc_airbnb_dev/lib/python3.10/site-packages (from imagehash==4.3.1->ydata-profiling==4.12.1) (11.1.0)\r\n",
      "Requirement already satisfied: MarkupSafe>=2.0 in /Users/caitlinhowe/miniconda3/envs/nyc_airbnb_dev/lib/python3.10/site-packages (from jinja2<3.2,>=2.11.1->ydata-profiling==4.12.1) (3.0.2)\r\n",
      "Requirement already satisfied: contourpy>=1.0.1 in /Users/caitlinhowe/miniconda3/envs/nyc_airbnb_dev/lib/python3.10/site-packages (from matplotlib<3.10,>=3.5->ydata-profiling==4.12.1) (1.3.2)\r\n",
      "Requirement already satisfied: cycler>=0.10 in /Users/caitlinhowe/miniconda3/envs/nyc_airbnb_dev/lib/python3.10/site-packages (from matplotlib<3.10,>=3.5->ydata-profiling==4.12.1) (0.12.1)\r\n",
      "Requirement already satisfied: fonttools>=4.22.0 in /Users/caitlinhowe/miniconda3/envs/nyc_airbnb_dev/lib/python3.10/site-packages (from matplotlib<3.10,>=3.5->ydata-profiling==4.12.1) (4.57.0)\r\n",
      "Requirement already satisfied: kiwisolver>=1.3.1 in /Users/caitlinhowe/miniconda3/envs/nyc_airbnb_dev/lib/python3.10/site-packages (from matplotlib<3.10,>=3.5->ydata-profiling==4.12.1) (1.4.7)\r\n",
      "Requirement already satisfied: packaging>=20.0 in /Users/caitlinhowe/miniconda3/envs/nyc_airbnb_dev/lib/python3.10/site-packages (from matplotlib<3.10,>=3.5->ydata-profiling==4.12.1) (23.2)\r\n",
      "Requirement already satisfied: pyparsing>=2.3.1 in /Users/caitlinhowe/miniconda3/envs/nyc_airbnb_dev/lib/python3.10/site-packages (from matplotlib<3.10,>=3.5->ydata-profiling==4.12.1) (3.2.3)\r\n",
      "Requirement already satisfied: python-dateutil>=2.7 in /Users/caitlinhowe/miniconda3/envs/nyc_airbnb_dev/lib/python3.10/site-packages (from matplotlib<3.10,>=3.5->ydata-profiling==4.12.1) (2.9.0.post0)\r\n",
      "Collecting llvmlite<0.45,>=0.44.0dev0 (from numba<1,>=0.56.0->ydata-profiling==4.12.1)\r\n",
      "  Downloading llvmlite-0.44.0-cp310-cp310-macosx_10_14_x86_64.whl.metadata (4.8 kB)\r\n",
      "Requirement already satisfied: pytz>=2020.1 in /Users/caitlinhowe/miniconda3/envs/nyc_airbnb_dev/lib/python3.10/site-packages (from pandas!=1.4.0,<3,>1.1->ydata-profiling==4.12.1) (2023.4)\r\n",
      "Requirement already satisfied: tzdata>=2022.1 in /Users/caitlinhowe/miniconda3/envs/nyc_airbnb_dev/lib/python3.10/site-packages (from pandas!=1.4.0,<3,>1.1->ydata-profiling==4.12.1) (2025.2)\r\n",
      "Requirement already satisfied: joblib>=0.14.1 in /Users/caitlinhowe/miniconda3/envs/nyc_airbnb_dev/lib/python3.10/site-packages (from phik<0.13,>=0.11.1->ydata-profiling==4.12.1) (1.4.2)\r\n",
      "Collecting annotated-types>=0.6.0 (from pydantic>=2->ydata-profiling==4.12.1)\r\n",
      "  Using cached annotated_types-0.7.0-py3-none-any.whl.metadata (15 kB)\r\n",
      "Collecting pydantic-core==2.33.1 (from pydantic>=2->ydata-profiling==4.12.1)\r\n",
      "  Downloading pydantic_core-2.33.1-cp310-cp310-macosx_10_12_x86_64.whl.metadata (6.8 kB)\r\n",
      "Requirement already satisfied: typing-extensions>=4.12.2 in /Users/caitlinhowe/miniconda3/envs/nyc_airbnb_dev/lib/python3.10/site-packages (from pydantic>=2->ydata-profiling==4.12.1) (4.13.2)\r\n",
      "Collecting typing-inspection>=0.4.0 (from pydantic>=2->ydata-profiling==4.12.1)\r\n",
      "  Using cached typing_inspection-0.4.0-py3-none-any.whl.metadata (2.6 kB)\r\n",
      "Requirement already satisfied: charset_normalizer<4,>=2 in /Users/caitlinhowe/miniconda3/envs/nyc_airbnb_dev/lib/python3.10/site-packages (from requests<3,>=2.24.0->ydata-profiling==4.12.1) (3.4.1)\r\n",
      "Requirement already satisfied: idna<4,>=2.5 in /Users/caitlinhowe/miniconda3/envs/nyc_airbnb_dev/lib/python3.10/site-packages (from requests<3,>=2.24.0->ydata-profiling==4.12.1) (3.10)\r\n",
      "Requirement already satisfied: urllib3<3,>=1.21.1 in /Users/caitlinhowe/miniconda3/envs/nyc_airbnb_dev/lib/python3.10/site-packages (from requests<3,>=2.24.0->ydata-profiling==4.12.1) (2.4.0)\r\n",
      "Requirement already satisfied: certifi>=2017.4.17 in /Users/caitlinhowe/miniconda3/envs/nyc_airbnb_dev/lib/python3.10/site-packages (from requests<3,>=2.24.0->ydata-profiling==4.12.1) (2025.1.31)\r\n",
      "Collecting patsy>=0.5.6 (from statsmodels<1,>=0.13.2->ydata-profiling==4.12.1)\r\n",
      "  Downloading patsy-1.0.1-py2.py3-none-any.whl.metadata (3.3 kB)\r\n",
      "Requirement already satisfied: attrs>=19.3.0 in /Users/caitlinhowe/miniconda3/envs/nyc_airbnb_dev/lib/python3.10/site-packages (from visions<0.7.7,>=0.7.5->visions[type_image_path]<0.7.7,>=0.7.5->ydata-profiling==4.12.1) (25.3.0)\r\n",
      "Collecting networkx>=2.4 (from visions<0.7.7,>=0.7.5->visions[type_image_path]<0.7.7,>=0.7.5->ydata-profiling==4.12.1)\r\n",
      "  Downloading networkx-3.4.2-py3-none-any.whl.metadata (6.3 kB)\r\n",
      "\u001B[33mWARNING: visions 0.7.6 does not provide the extra 'type-image-path'\u001B[0m\u001B[33m\r\n",
      "\u001B[0mRequirement already satisfied: six>=1.5 in /Users/caitlinhowe/miniconda3/envs/nyc_airbnb_dev/lib/python3.10/site-packages (from python-dateutil>=2.7->matplotlib<3.10,>=3.5->ydata-profiling==4.12.1) (1.17.0)\r\n",
      "Downloading ydata_profiling-4.12.1-py2.py3-none-any.whl (390 kB)\r\n",
      "\u001B[2K   \u001B[90m━━━━━━━━━━━━━━━━━━━━━━━━━━━━━━━━━━━━━━━━\u001B[0m \u001B[32m390.9/390.9 kB\u001B[0m \u001B[31m3.8 MB/s\u001B[0m eta \u001B[36m0:00:00\u001B[0ma \u001B[36m0:00:01\u001B[0m\r\n",
      "\u001B[?25hDownloading ImageHash-4.3.1-py2.py3-none-any.whl (296 kB)\r\n",
      "\u001B[2K   \u001B[90m━━━━━━━━━━━━━━━━━━━━━━━━━━━━━━━━━━━━━━━━\u001B[0m \u001B[32m296.5/296.5 kB\u001B[0m \u001B[31m3.6 MB/s\u001B[0m eta \u001B[36m0:00:00\u001B[0ma \u001B[36m0:00:01\u001B[0m\r\n",
      "\u001B[?25hDownloading dacite-1.9.2-py3-none-any.whl (16 kB)\r\n",
      "Downloading multimethod-1.12-py3-none-any.whl (10 kB)\r\n",
      "Downloading numba-0.61.2-cp310-cp310-macosx_10_14_x86_64.whl (2.8 MB)\r\n",
      "\u001B[2K   \u001B[90m━━━━━━━━━━━━━━━━━━━━━━━━━━━━━━━━━━━━━━━━\u001B[0m \u001B[32m2.8/2.8 MB\u001B[0m \u001B[31m6.1 MB/s\u001B[0m eta \u001B[36m0:00:00\u001B[0m00:01\u001B[0m00:01\u001B[0m\r\n",
      "\u001B[?25hDownloading phik-0.12.4-cp310-cp310-macosx_10_13_x86_64.whl (659 kB)\r\n",
      "\u001B[2K   \u001B[90m━━━━━━━━━━━━━━━━━━━━━━━━━━━━━━━━━━━━━━━━\u001B[0m \u001B[32m659.2/659.2 kB\u001B[0m \u001B[31m5.1 MB/s\u001B[0m eta \u001B[36m0:00:00\u001B[0m00:01\u001B[0m00:01\u001B[0m\r\n",
      "\u001B[?25hUsing cached pydantic-2.11.3-py3-none-any.whl (443 kB)\r\n",
      "Downloading pydantic_core-2.33.1-cp310-cp310-macosx_10_12_x86_64.whl (2.0 MB)\r\n",
      "\u001B[2K   \u001B[90m━━━━━━━━━━━━━━━━━━━━━━━━━━━━━━━━━━━━━━━━\u001B[0m \u001B[32m2.0/2.0 MB\u001B[0m \u001B[31m7.8 MB/s\u001B[0m eta \u001B[36m0:00:00\u001B[0m00:01\u001B[0m00:01\u001B[0mm\r\n",
      "\u001B[?25hDownloading scipy-1.13.1-cp310-cp310-macosx_10_9_x86_64.whl (39.3 MB)\r\n",
      "\u001B[2K   \u001B[90m━━━━━━━━━━━━━━━━━━━━━━━━━━━━━━━━━━━━━━━━\u001B[0m \u001B[32m39.3/39.3 MB\u001B[0m \u001B[31m9.4 MB/s\u001B[0m eta \u001B[36m0:00:00\u001B[0m:00:01\u001B[0m00:01\u001B[0m\r\n",
      "\u001B[?25hDownloading seaborn-0.13.2-py3-none-any.whl (294 kB)\r\n",
      "\u001B[2K   \u001B[90m━━━━━━━━━━━━━━━━━━━━━━━━━━━━━━━━━━━━━━━━\u001B[0m \u001B[32m294.9/294.9 kB\u001B[0m \u001B[31m3.8 MB/s\u001B[0m eta \u001B[36m0:00:00\u001B[0ma \u001B[36m0:00:01\u001B[0m\r\n",
      "\u001B[?25hDownloading statsmodels-0.14.4-cp310-cp310-macosx_10_9_x86_64.whl (10.2 MB)\r\n",
      "\u001B[2K   \u001B[90m━━━━━━━━━━━━━━━━━━━━━━━━━━━━━━━━━━━━━━━━\u001B[0m \u001B[32m10.2/10.2 MB\u001B[0m \u001B[31m6.9 MB/s\u001B[0m eta \u001B[36m0:00:00\u001B[0m:00:01\u001B[0m0:01\u001B[0m\r\n",
      "\u001B[?25hDownloading tqdm-4.67.1-py3-none-any.whl (78 kB)\r\n",
      "\u001B[2K   \u001B[90m━━━━━━━━━━━━━━━━━━━━━━━━━━━━━━━━━━━━━━━━\u001B[0m \u001B[32m78.5/78.5 kB\u001B[0m \u001B[31m1.6 MB/s\u001B[0m eta \u001B[36m0:00:00\u001B[0mta \u001B[36m0:00:01\u001B[0m\r\n",
      "\u001B[?25hDownloading typeguard-4.4.2-py3-none-any.whl (35 kB)\r\n",
      "Downloading visions-0.7.6-py3-none-any.whl (104 kB)\r\n",
      "\u001B[2K   \u001B[90m━━━━━━━━━━━━━━━━━━━━━━━━━━━━━━━━━━━━━━━━\u001B[0m \u001B[32m104.8/104.8 kB\u001B[0m \u001B[31m1.6 MB/s\u001B[0m eta \u001B[36m0:00:00\u001B[0m:00:01\u001B[0m\r\n",
      "\u001B[?25hDownloading wordcloud-1.9.4-cp310-cp310-macosx_10_9_x86_64.whl (171 kB)\r\n",
      "\u001B[2K   \u001B[90m━━━━━━━━━━━━━━━━━━━━━━━━━━━━━━━━━━━━━━━━\u001B[0m \u001B[32m171.8/171.8 kB\u001B[0m \u001B[31m3.6 MB/s\u001B[0m eta \u001B[36m0:00:00\u001B[0ma \u001B[36m0:00:01\u001B[0m\r\n",
      "\u001B[?25hUsing cached annotated_types-0.7.0-py3-none-any.whl (13 kB)\r\n",
      "Downloading llvmlite-0.44.0-cp310-cp310-macosx_10_14_x86_64.whl (28.1 MB)\r\n",
      "\u001B[2K   \u001B[90m━━━━━━━━━━━━━━━━━━━━━━━━━━━━━━━━━━━━━━━━\u001B[0m \u001B[32m28.1/28.1 MB\u001B[0m \u001B[31m5.6 MB/s\u001B[0m eta \u001B[36m0:00:00\u001B[0m00:01\u001B[0mm00:01\u001B[0m\r\n",
      "\u001B[?25hDownloading networkx-3.4.2-py3-none-any.whl (1.7 MB)\r\n",
      "\u001B[2K   \u001B[90m━━━━━━━━━━━━━━━━━━━━━━━━━━━━━━━━━━━━━━━━\u001B[0m \u001B[32m1.7/1.7 MB\u001B[0m \u001B[31m6.0 MB/s\u001B[0m eta \u001B[36m0:00:00\u001B[0m00:01\u001B[0m00:01\u001B[0m\r\n",
      "\u001B[?25hDownloading patsy-1.0.1-py2.py3-none-any.whl (232 kB)\r\n",
      "\u001B[2K   \u001B[90m━━━━━━━━━━━━━━━━━━━━━━━━━━━━━━━━━━━━━━━━\u001B[0m \u001B[32m232.9/232.9 kB\u001B[0m \u001B[31m2.2 MB/s\u001B[0m eta \u001B[36m0:00:00\u001B[0mta \u001B[36m0:00:01\u001B[0m\r\n",
      "\u001B[?25hUsing cached typing_inspection-0.4.0-py3-none-any.whl (14 kB)\r\n",
      "Downloading pywavelets-1.8.0-cp310-cp310-macosx_10_9_x86_64.whl (4.3 MB)\r\n",
      "\u001B[2K   \u001B[90m━━━━━━━━━━━━━━━━━━━━━━━━━━━━━━━━━━━━━━━━\u001B[0m \u001B[32m4.3/4.3 MB\u001B[0m \u001B[31m7.0 MB/s\u001B[0m eta \u001B[36m0:00:00\u001B[0m:00:01\u001B[0m00:01\u001B[0m\r\n",
      "\u001B[?25hBuilding wheels for collected packages: htmlmin\r\n",
      "  Building wheel for htmlmin (setup.py) ... \u001B[?25ldone\r\n",
      "\u001B[?25h  Created wheel for htmlmin: filename=htmlmin-0.1.12-py3-none-any.whl size=27160 sha256=4f3315ab5ce295bcc1a9cb71b3426de7b84334f554fe4b3d9b49c886b048bbfe\r\n",
      "  Stored in directory: /Users/caitlinhowe/Library/Caches/pip/wheels/dd/91/29/a79cecb328d01739e64017b6fb9a1ab9d8cb1853098ec5966d\r\n",
      "Successfully built htmlmin\r\n",
      "Installing collected packages: htmlmin, typing-inspection, typeguard, tqdm, scipy, PyWavelets, pydantic-core, patsy, networkx, multimethod, llvmlite, dacite, annotated-types, pydantic, numba, imagehash, wordcloud, visions, statsmodels, seaborn, phik, ydata-profiling\r\n",
      "  Attempting uninstall: scipy\r\n",
      "    Found existing installation: scipy 1.15.2\r\n",
      "    Uninstalling scipy-1.15.2:\r\n",
      "      Successfully uninstalled scipy-1.15.2\r\n",
      "Successfully installed PyWavelets-1.8.0 annotated-types-0.7.0 dacite-1.9.2 htmlmin-0.1.12 imagehash-4.3.1 llvmlite-0.44.0 multimethod-1.12 networkx-3.4.2 numba-0.61.2 patsy-1.0.1 phik-0.12.4 pydantic-2.11.3 pydantic-core-2.33.1 scipy-1.13.1 seaborn-0.13.2 statsmodels-0.14.4 tqdm-4.67.1 typeguard-4.4.2 typing-inspection-0.4.0 visions-0.7.6 wordcloud-1.9.4 ydata-profiling-4.12.1\r\n",
      "Requirement already satisfied: pandas==2.1.3 in /Users/caitlinhowe/miniconda3/envs/nyc_airbnb_dev/lib/python3.10/site-packages (2.1.3)\r\n",
      "Requirement already satisfied: numpy<2,>=1.22.4 in /Users/caitlinhowe/miniconda3/envs/nyc_airbnb_dev/lib/python3.10/site-packages (from pandas==2.1.3) (1.26.4)\r\n",
      "Requirement already satisfied: python-dateutil>=2.8.2 in /Users/caitlinhowe/miniconda3/envs/nyc_airbnb_dev/lib/python3.10/site-packages (from pandas==2.1.3) (2.9.0.post0)\r\n",
      "Requirement already satisfied: pytz>=2020.1 in /Users/caitlinhowe/miniconda3/envs/nyc_airbnb_dev/lib/python3.10/site-packages (from pandas==2.1.3) (2023.4)\r\n",
      "Requirement already satisfied: tzdata>=2022.1 in /Users/caitlinhowe/miniconda3/envs/nyc_airbnb_dev/lib/python3.10/site-packages (from pandas==2.1.3) (2025.2)\r\n",
      "Requirement already satisfied: six>=1.5 in /Users/caitlinhowe/miniconda3/envs/nyc_airbnb_dev/lib/python3.10/site-packages (from python-dateutil>=2.8.2->pandas==2.1.3) (1.17.0)\r\n"
     ]
    }
   ],
   "execution_count": 1
  },
  {
   "cell_type": "markdown",
   "id": "54c4f98a",
   "metadata": {},
   "source": [
    "1. Fetch the artifact we just created (sample.csv) from W&B and read it with pandas:"
   ]
  },
  {
   "cell_type": "code",
   "execution_count": null,
   "id": "eed98c34",
   "metadata": {},
   "outputs": [],
   "source": [
    "import wandb\n",
    "import pandas as pd\n",
    "# Note that we use save_code=True in the call to wandb.init so the notebook is uploaded and versioned by W&B\n",
    "run = wandb.init(project=\"nyc_airbnb\", group=\"eda\", save_code=True)\n",
    "local_path = wandb.use_artifact(\"sample.csv:latest\").file()\n",
    "df = pd.read_csv(local_path)"
   ]
  },
  {
   "cell_type": "markdown",
   "id": "472b8c0d",
   "metadata": {},
   "source": [
    "2. Explore the data in df"
   ]
  },
  {
   "cell_type": "code",
   "execution_count": null,
   "id": "e7902159",
   "metadata": {},
   "outputs": [],
   "source": [
    "df.info()"
   ]
  },
  {
   "cell_type": "code",
   "execution_count": null,
   "id": "ef6f1457",
   "metadata": {},
   "outputs": [],
   "source": [
    "df.describe()"
   ]
  },
  {
   "cell_type": "code",
   "execution_count": null,
   "id": "13548f59",
   "metadata": {},
   "outputs": [],
   "source": [
    "df.head()"
   ]
  },
  {
   "cell_type": "markdown",
   "id": "ecfee692",
   "metadata": {},
   "source": [
    "3. What do you notice in the data? Look around and see what you can find.\n",
    "\n",
    "> For example, there are missing values in a few columns and the column `last_review` is a date but it is in string format. Look also at the `price` column, and note the outliers. There are some zeros and some very high prices. After talking to your stakeholders, you decide to consider from a minimum of `$10` to a maximum of `$350` per night."
   ]
  },
  {
   "cell_type": "markdown",
   "id": "b4bb415f",
   "metadata": {},
   "source": [
    "4. Fix some of the little problems we have found in the data with the following code:"
   ]
  },
  {
   "cell_type": "code",
   "execution_count": null,
   "id": "4d685317",
   "metadata": {},
   "outputs": [],
   "source": [
    "# Drop outliers\n",
    "min_price = 10\n",
    "max_price = 350\n",
    "idx = df['price'].between(min_price, max_price)\n",
    "df = df[idx].copy()\n",
    "# Convert last_review to datetime\n",
    "df['last_review'] = pd.to_datetime(df['last_review'])"
   ]
  },
  {
   "cell_type": "markdown",
   "id": "17990df4",
   "metadata": {},
   "source": [
    "Note how we did not impute missing values. We will do that in the inference pipeline, so we will be able to handle missing values also in production."
   ]
  },
  {
   "cell_type": "markdown",
   "id": "09287f29",
   "metadata": {},
   "source": [
    "5. Check with df.info() that all obvious problems have been solved"
   ]
  },
  {
   "cell_type": "code",
   "execution_count": null,
   "id": "b83b4970",
   "metadata": {},
   "outputs": [],
   "source": [
    "df.info()"
   ]
  },
  {
   "cell_type": "markdown",
   "id": "d727e697",
   "metadata": {},
   "source": [
    "6. Terminate the run by running `run.finish()`"
   ]
  },
  {
   "cell_type": "code",
   "execution_count": null,
   "id": "48b38586",
   "metadata": {},
   "outputs": [],
   "source": [
    "run.finish()"
   ]
  },
  {
   "cell_type": "markdown",
   "id": "13f82b21",
   "metadata": {},
   "source": [
    "7. Save the notebook."
   ]
  }
 ],
 "metadata": {
  "kernelspec": {
   "display_name": "Python 3 (ipykernel)",
   "language": "python",
   "name": "python3"
  },
  "language_info": {
   "codemirror_mode": {
    "name": "ipython",
    "version": 3
   },
   "file_extension": ".py",
   "mimetype": "text/x-python",
   "name": "python",
   "nbconvert_exporter": "python",
   "pygments_lexer": "ipython3",
   "version": "3.9.15"
  }
 },
 "nbformat": 4,
 "nbformat_minor": 5
}
